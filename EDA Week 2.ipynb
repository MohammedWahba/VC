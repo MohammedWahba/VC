{
 "cells": [
  {
   "cell_type": "code",
   "execution_count": 1,
   "id": "a868ac9d",
   "metadata": {},
   "outputs": [],
   "source": [
    "import pandas as pd\n",
    "import seaborn as sns\n",
    "import matplotlib.pyplot as plt"
   ]
  },
  {
   "cell_type": "markdown",
   "id": "31cbb703",
   "metadata": {},
   "source": [
    "## Loading CSVs Datasets."
   ]
  },
  {
   "cell_type": "code",
   "execution_count": 86,
   "id": "80e042c6",
   "metadata": {},
   "outputs": [],
   "source": [
    "Cab_Data= pd.read_csv(\"Cab_Data.csv\")\n",
    "Customer_Data= pd.read_csv(\"Customer_ID.csv\")\n",
    "Transaction_data= pd.read_csv(\"Transaction_ID.csv\")\n",
    "City_Data= pd.read_csv(\"City.csv\")"
   ]
  },
  {
   "cell_type": "markdown",
   "id": "e038ff71",
   "metadata": {},
   "source": [
    "## Merge the datasets"
   ]
  },
  {
   "cell_type": "code",
   "execution_count": 87,
   "id": "1fdb893b",
   "metadata": {},
   "outputs": [],
   "source": [
    "combined_df= pd.merge(Transaction_data, Customer_Data)"
   ]
  },
  {
   "cell_type": "code",
   "execution_count": 88,
   "id": "a51413f1",
   "metadata": {},
   "outputs": [],
   "source": [
    "combined_df= pd.merge(combined_df, Cab_Data)"
   ]
  },
  {
   "cell_type": "code",
   "execution_count": 89,
   "id": "c064fedc",
   "metadata": {},
   "outputs": [
    {
     "data": {
      "text/html": [
       "<div>\n",
       "<style scoped>\n",
       "    .dataframe tbody tr th:only-of-type {\n",
       "        vertical-align: middle;\n",
       "    }\n",
       "\n",
       "    .dataframe tbody tr th {\n",
       "        vertical-align: top;\n",
       "    }\n",
       "\n",
       "    .dataframe thead th {\n",
       "        text-align: right;\n",
       "    }\n",
       "</style>\n",
       "<table border=\"1\" class=\"dataframe\">\n",
       "  <thead>\n",
       "    <tr style=\"text-align: right;\">\n",
       "      <th></th>\n",
       "      <th>Transaction ID</th>\n",
       "      <th>Customer ID</th>\n",
       "      <th>Payment_Mode</th>\n",
       "      <th>Gender</th>\n",
       "      <th>Age</th>\n",
       "      <th>Income (USD/Month)</th>\n",
       "      <th>Date of Travel</th>\n",
       "      <th>Company</th>\n",
       "      <th>City</th>\n",
       "      <th>KM Travelled</th>\n",
       "      <th>Price Charged</th>\n",
       "      <th>Cost of Trip</th>\n",
       "    </tr>\n",
       "  </thead>\n",
       "  <tbody>\n",
       "    <tr>\n",
       "      <th>0</th>\n",
       "      <td>10000011</td>\n",
       "      <td>29290</td>\n",
       "      <td>Card</td>\n",
       "      <td>Male</td>\n",
       "      <td>28</td>\n",
       "      <td>10813</td>\n",
       "      <td>2016-01-08</td>\n",
       "      <td>Pink Cab</td>\n",
       "      <td>ATLANTA GA</td>\n",
       "      <td>30.45</td>\n",
       "      <td>370.95</td>\n",
       "      <td>313.6350</td>\n",
       "    </tr>\n",
       "    <tr>\n",
       "      <th>1</th>\n",
       "      <td>10351127</td>\n",
       "      <td>29290</td>\n",
       "      <td>Cash</td>\n",
       "      <td>Male</td>\n",
       "      <td>28</td>\n",
       "      <td>10813</td>\n",
       "      <td>2018-07-21</td>\n",
       "      <td>Yellow Cab</td>\n",
       "      <td>ATLANTA GA</td>\n",
       "      <td>26.19</td>\n",
       "      <td>598.70</td>\n",
       "      <td>317.4228</td>\n",
       "    </tr>\n",
       "    <tr>\n",
       "      <th>2</th>\n",
       "      <td>10412921</td>\n",
       "      <td>29290</td>\n",
       "      <td>Card</td>\n",
       "      <td>Male</td>\n",
       "      <td>28</td>\n",
       "      <td>10813</td>\n",
       "      <td>2018-11-23</td>\n",
       "      <td>Yellow Cab</td>\n",
       "      <td>ATLANTA GA</td>\n",
       "      <td>42.55</td>\n",
       "      <td>792.05</td>\n",
       "      <td>597.4020</td>\n",
       "    </tr>\n",
       "    <tr>\n",
       "      <th>3</th>\n",
       "      <td>10000012</td>\n",
       "      <td>27703</td>\n",
       "      <td>Card</td>\n",
       "      <td>Male</td>\n",
       "      <td>27</td>\n",
       "      <td>9237</td>\n",
       "      <td>2016-01-06</td>\n",
       "      <td>Pink Cab</td>\n",
       "      <td>ATLANTA GA</td>\n",
       "      <td>28.62</td>\n",
       "      <td>358.52</td>\n",
       "      <td>334.8540</td>\n",
       "    </tr>\n",
       "    <tr>\n",
       "      <th>4</th>\n",
       "      <td>10320494</td>\n",
       "      <td>27703</td>\n",
       "      <td>Card</td>\n",
       "      <td>Male</td>\n",
       "      <td>27</td>\n",
       "      <td>9237</td>\n",
       "      <td>2018-04-21</td>\n",
       "      <td>Yellow Cab</td>\n",
       "      <td>ATLANTA GA</td>\n",
       "      <td>36.38</td>\n",
       "      <td>721.10</td>\n",
       "      <td>467.1192</td>\n",
       "    </tr>\n",
       "  </tbody>\n",
       "</table>\n",
       "</div>"
      ],
      "text/plain": [
       "   Transaction ID  Customer ID Payment_Mode Gender  Age  Income (USD/Month)  \\\n",
       "0        10000011        29290         Card   Male   28               10813   \n",
       "1        10351127        29290         Cash   Male   28               10813   \n",
       "2        10412921        29290         Card   Male   28               10813   \n",
       "3        10000012        27703         Card   Male   27                9237   \n",
       "4        10320494        27703         Card   Male   27                9237   \n",
       "\n",
       "  Date of Travel     Company        City  KM Travelled  Price Charged  \\\n",
       "0     2016-01-08    Pink Cab  ATLANTA GA         30.45         370.95   \n",
       "1     2018-07-21  Yellow Cab  ATLANTA GA         26.19         598.70   \n",
       "2     2018-11-23  Yellow Cab  ATLANTA GA         42.55         792.05   \n",
       "3     2016-01-06    Pink Cab  ATLANTA GA         28.62         358.52   \n",
       "4     2018-04-21  Yellow Cab  ATLANTA GA         36.38         721.10   \n",
       "\n",
       "   Cost of Trip  \n",
       "0      313.6350  \n",
       "1      317.4228  \n",
       "2      597.4020  \n",
       "3      334.8540  \n",
       "4      467.1192  "
      ]
     },
     "execution_count": 89,
     "metadata": {},
     "output_type": "execute_result"
    }
   ],
   "source": [
    "combined_df.head()"
   ]
  },
  {
   "cell_type": "code",
   "execution_count": 90,
   "id": "7a275d0e",
   "metadata": {},
   "outputs": [],
   "source": [
    "City_Company= pd.merge(City_Data, Cab_Data, left_on=\"City\", right_on=[\"City\"])"
   ]
  },
  {
   "cell_type": "code",
   "execution_count": 91,
   "id": "16a4559e",
   "metadata": {
    "scrolled": true
   },
   "outputs": [
    {
     "data": {
      "text/html": [
       "<div>\n",
       "<style scoped>\n",
       "    .dataframe tbody tr th:only-of-type {\n",
       "        vertical-align: middle;\n",
       "    }\n",
       "\n",
       "    .dataframe tbody tr th {\n",
       "        vertical-align: top;\n",
       "    }\n",
       "\n",
       "    .dataframe thead th {\n",
       "        text-align: right;\n",
       "    }\n",
       "</style>\n",
       "<table border=\"1\" class=\"dataframe\">\n",
       "  <thead>\n",
       "    <tr style=\"text-align: right;\">\n",
       "      <th></th>\n",
       "      <th>City</th>\n",
       "      <th>Population</th>\n",
       "      <th>Users</th>\n",
       "      <th>Transaction ID</th>\n",
       "      <th>Date of Travel</th>\n",
       "      <th>Company</th>\n",
       "      <th>KM Travelled</th>\n",
       "      <th>Price Charged</th>\n",
       "      <th>Cost of Trip</th>\n",
       "    </tr>\n",
       "  </thead>\n",
       "  <tbody>\n",
       "    <tr>\n",
       "      <th>0</th>\n",
       "      <td>NEW YORK NY</td>\n",
       "      <td>8,405,837</td>\n",
       "      <td>302,149</td>\n",
       "      <td>10000139</td>\n",
       "      <td>2016-01-08</td>\n",
       "      <td>Pink Cab</td>\n",
       "      <td>17.85</td>\n",
       "      <td>242.90</td>\n",
       "      <td>198.135</td>\n",
       "    </tr>\n",
       "    <tr>\n",
       "      <th>1</th>\n",
       "      <td>NEW YORK NY</td>\n",
       "      <td>8,405,837</td>\n",
       "      <td>302,149</td>\n",
       "      <td>10000140</td>\n",
       "      <td>2016-01-09</td>\n",
       "      <td>Pink Cab</td>\n",
       "      <td>25.30</td>\n",
       "      <td>407.21</td>\n",
       "      <td>255.530</td>\n",
       "    </tr>\n",
       "    <tr>\n",
       "      <th>2</th>\n",
       "      <td>NEW YORK NY</td>\n",
       "      <td>8,405,837</td>\n",
       "      <td>302,149</td>\n",
       "      <td>10000141</td>\n",
       "      <td>2016-01-06</td>\n",
       "      <td>Pink Cab</td>\n",
       "      <td>16.32</td>\n",
       "      <td>236.41</td>\n",
       "      <td>186.048</td>\n",
       "    </tr>\n",
       "    <tr>\n",
       "      <th>3</th>\n",
       "      <td>NEW YORK NY</td>\n",
       "      <td>8,405,837</td>\n",
       "      <td>302,149</td>\n",
       "      <td>10000142</td>\n",
       "      <td>2016-01-04</td>\n",
       "      <td>Pink Cab</td>\n",
       "      <td>12.43</td>\n",
       "      <td>194.61</td>\n",
       "      <td>144.188</td>\n",
       "    </tr>\n",
       "    <tr>\n",
       "      <th>4</th>\n",
       "      <td>NEW YORK NY</td>\n",
       "      <td>8,405,837</td>\n",
       "      <td>302,149</td>\n",
       "      <td>10000143</td>\n",
       "      <td>2016-01-09</td>\n",
       "      <td>Pink Cab</td>\n",
       "      <td>29.70</td>\n",
       "      <td>434.57</td>\n",
       "      <td>350.460</td>\n",
       "    </tr>\n",
       "  </tbody>\n",
       "</table>\n",
       "</div>"
      ],
      "text/plain": [
       "          City   Population      Users  Transaction ID Date of Travel  \\\n",
       "0  NEW YORK NY   8,405,837    302,149         10000139     2016-01-08   \n",
       "1  NEW YORK NY   8,405,837    302,149         10000140     2016-01-09   \n",
       "2  NEW YORK NY   8,405,837    302,149         10000141     2016-01-06   \n",
       "3  NEW YORK NY   8,405,837    302,149         10000142     2016-01-04   \n",
       "4  NEW YORK NY   8,405,837    302,149         10000143     2016-01-09   \n",
       "\n",
       "    Company  KM Travelled  Price Charged  Cost of Trip  \n",
       "0  Pink Cab         17.85         242.90       198.135  \n",
       "1  Pink Cab         25.30         407.21       255.530  \n",
       "2  Pink Cab         16.32         236.41       186.048  \n",
       "3  Pink Cab         12.43         194.61       144.188  \n",
       "4  Pink Cab         29.70         434.57       350.460  "
      ]
     },
     "execution_count": 91,
     "metadata": {},
     "output_type": "execute_result"
    }
   ],
   "source": [
    "City_Company.head()"
   ]
  },
  {
   "cell_type": "markdown",
   "id": "aa4ba139",
   "metadata": {},
   "source": [
    "# Reconstruct  and Clean the DataFrames"
   ]
  },
  {
   "cell_type": "code",
   "execution_count": 92,
   "id": "d7c01ce4",
   "metadata": {},
   "outputs": [],
   "source": [
    "combined_df= combined_df[[\"Company\", \"Customer ID\", \"Transaction ID\", \"Gender\", \"Age\", \n",
    "                              \"Income (USD/Month)\",\"City\", \"Date of Travel\", 'KM Travelled', 'Cost of Trip',\n",
    "                             'Price Charged', 'Payment_Mode']]"
   ]
  },
  {
   "cell_type": "code",
   "execution_count": 93,
   "id": "5c365be3",
   "metadata": {
    "scrolled": true
   },
   "outputs": [
    {
     "data": {
      "text/html": [
       "<div>\n",
       "<style scoped>\n",
       "    .dataframe tbody tr th:only-of-type {\n",
       "        vertical-align: middle;\n",
       "    }\n",
       "\n",
       "    .dataframe tbody tr th {\n",
       "        vertical-align: top;\n",
       "    }\n",
       "\n",
       "    .dataframe thead th {\n",
       "        text-align: right;\n",
       "    }\n",
       "</style>\n",
       "<table border=\"1\" class=\"dataframe\">\n",
       "  <thead>\n",
       "    <tr style=\"text-align: right;\">\n",
       "      <th></th>\n",
       "      <th>Company</th>\n",
       "      <th>Customer ID</th>\n",
       "      <th>Transaction ID</th>\n",
       "      <th>Gender</th>\n",
       "      <th>Age</th>\n",
       "      <th>Income (USD/Month)</th>\n",
       "      <th>City</th>\n",
       "      <th>Date of Travel</th>\n",
       "      <th>KM Travelled</th>\n",
       "      <th>Cost of Trip</th>\n",
       "      <th>Price Charged</th>\n",
       "      <th>Payment_Mode</th>\n",
       "    </tr>\n",
       "  </thead>\n",
       "  <tbody>\n",
       "    <tr>\n",
       "      <th>0</th>\n",
       "      <td>Pink Cab</td>\n",
       "      <td>29290</td>\n",
       "      <td>10000011</td>\n",
       "      <td>Male</td>\n",
       "      <td>28</td>\n",
       "      <td>10813</td>\n",
       "      <td>ATLANTA GA</td>\n",
       "      <td>2016-01-08</td>\n",
       "      <td>30.45</td>\n",
       "      <td>313.6350</td>\n",
       "      <td>370.95</td>\n",
       "      <td>Card</td>\n",
       "    </tr>\n",
       "    <tr>\n",
       "      <th>1</th>\n",
       "      <td>Yellow Cab</td>\n",
       "      <td>29290</td>\n",
       "      <td>10351127</td>\n",
       "      <td>Male</td>\n",
       "      <td>28</td>\n",
       "      <td>10813</td>\n",
       "      <td>ATLANTA GA</td>\n",
       "      <td>2018-07-21</td>\n",
       "      <td>26.19</td>\n",
       "      <td>317.4228</td>\n",
       "      <td>598.70</td>\n",
       "      <td>Cash</td>\n",
       "    </tr>\n",
       "    <tr>\n",
       "      <th>2</th>\n",
       "      <td>Yellow Cab</td>\n",
       "      <td>29290</td>\n",
       "      <td>10412921</td>\n",
       "      <td>Male</td>\n",
       "      <td>28</td>\n",
       "      <td>10813</td>\n",
       "      <td>ATLANTA GA</td>\n",
       "      <td>2018-11-23</td>\n",
       "      <td>42.55</td>\n",
       "      <td>597.4020</td>\n",
       "      <td>792.05</td>\n",
       "      <td>Card</td>\n",
       "    </tr>\n",
       "    <tr>\n",
       "      <th>3</th>\n",
       "      <td>Pink Cab</td>\n",
       "      <td>27703</td>\n",
       "      <td>10000012</td>\n",
       "      <td>Male</td>\n",
       "      <td>27</td>\n",
       "      <td>9237</td>\n",
       "      <td>ATLANTA GA</td>\n",
       "      <td>2016-01-06</td>\n",
       "      <td>28.62</td>\n",
       "      <td>334.8540</td>\n",
       "      <td>358.52</td>\n",
       "      <td>Card</td>\n",
       "    </tr>\n",
       "    <tr>\n",
       "      <th>4</th>\n",
       "      <td>Yellow Cab</td>\n",
       "      <td>27703</td>\n",
       "      <td>10320494</td>\n",
       "      <td>Male</td>\n",
       "      <td>27</td>\n",
       "      <td>9237</td>\n",
       "      <td>ATLANTA GA</td>\n",
       "      <td>2018-04-21</td>\n",
       "      <td>36.38</td>\n",
       "      <td>467.1192</td>\n",
       "      <td>721.10</td>\n",
       "      <td>Card</td>\n",
       "    </tr>\n",
       "  </tbody>\n",
       "</table>\n",
       "</div>"
      ],
      "text/plain": [
       "      Company  Customer ID  Transaction ID Gender  Age  Income (USD/Month)  \\\n",
       "0    Pink Cab        29290        10000011   Male   28               10813   \n",
       "1  Yellow Cab        29290        10351127   Male   28               10813   \n",
       "2  Yellow Cab        29290        10412921   Male   28               10813   \n",
       "3    Pink Cab        27703        10000012   Male   27                9237   \n",
       "4  Yellow Cab        27703        10320494   Male   27                9237   \n",
       "\n",
       "         City Date of Travel  KM Travelled  Cost of Trip  Price Charged  \\\n",
       "0  ATLANTA GA     2016-01-08         30.45      313.6350         370.95   \n",
       "1  ATLANTA GA     2018-07-21         26.19      317.4228         598.70   \n",
       "2  ATLANTA GA     2018-11-23         42.55      597.4020         792.05   \n",
       "3  ATLANTA GA     2016-01-06         28.62      334.8540         358.52   \n",
       "4  ATLANTA GA     2018-04-21         36.38      467.1192         721.10   \n",
       "\n",
       "  Payment_Mode  \n",
       "0         Card  \n",
       "1         Cash  \n",
       "2         Card  \n",
       "3         Card  \n",
       "4         Card  "
      ]
     },
     "execution_count": 93,
     "metadata": {},
     "output_type": "execute_result"
    }
   ],
   "source": [
    "combined_df.head()"
   ]
  },
  {
   "cell_type": "markdown",
   "id": "6484430d",
   "metadata": {},
   "source": [
    "### Check and clean the dates range from 31/01/2016 to 31/12/2018"
   ]
  },
  {
   "cell_type": "markdown",
   "id": "70bea424",
   "metadata": {},
   "source": [
    "#### Change Date of Travel column type to datetime."
   ]
  },
  {
   "cell_type": "code",
   "execution_count": 94,
   "id": "e9adcfb5",
   "metadata": {},
   "outputs": [],
   "source": [
    "Cab_Data['Date of Travel'] = pd.to_datetime(Cab_Data['Date of Travel'])"
   ]
  },
  {
   "cell_type": "code",
   "execution_count": 95,
   "id": "bc2fa798",
   "metadata": {},
   "outputs": [
    {
     "data": {
      "text/plain": [
       "Transaction ID             int64\n",
       "Date of Travel    datetime64[ns]\n",
       "Company                   object\n",
       "City                      object\n",
       "KM Travelled             float64\n",
       "Price Charged            float64\n",
       "Cost of Trip             float64\n",
       "dtype: object"
      ]
     },
     "execution_count": 95,
     "metadata": {},
     "output_type": "execute_result"
    }
   ],
   "source": [
    "Cab_Data.dtypes"
   ]
  },
  {
   "cell_type": "code",
   "execution_count": 96,
   "id": "fd4438a2",
   "metadata": {},
   "outputs": [],
   "source": [
    "combined_df = combined_df[combined_df[\"Date of Travel\"]>= \"1/31/2016\"]"
   ]
  },
  {
   "cell_type": "code",
   "execution_count": 97,
   "id": "3e20d5d0",
   "metadata": {},
   "outputs": [],
   "source": [
    "combined_df= combined_df.drop(['Income (USD/Month)'], axis = 1)"
   ]
  },
  {
   "cell_type": "code",
   "execution_count": 98,
   "id": "e1ad8273",
   "metadata": {},
   "outputs": [],
   "source": [
    "combined_df= combined_df.drop(['Transaction ID'], axis = 1)"
   ]
  },
  {
   "cell_type": "code",
   "execution_count": 99,
   "id": "7d11cc56",
   "metadata": {},
   "outputs": [
    {
     "data": {
      "text/html": [
       "<div>\n",
       "<style scoped>\n",
       "    .dataframe tbody tr th:only-of-type {\n",
       "        vertical-align: middle;\n",
       "    }\n",
       "\n",
       "    .dataframe tbody tr th {\n",
       "        vertical-align: top;\n",
       "    }\n",
       "\n",
       "    .dataframe thead th {\n",
       "        text-align: right;\n",
       "    }\n",
       "</style>\n",
       "<table border=\"1\" class=\"dataframe\">\n",
       "  <thead>\n",
       "    <tr style=\"text-align: right;\">\n",
       "      <th></th>\n",
       "      <th>Company</th>\n",
       "      <th>Customer ID</th>\n",
       "      <th>Gender</th>\n",
       "      <th>Age</th>\n",
       "      <th>City</th>\n",
       "      <th>Date of Travel</th>\n",
       "      <th>KM Travelled</th>\n",
       "      <th>Cost of Trip</th>\n",
       "      <th>Price Charged</th>\n",
       "      <th>Payment_Mode</th>\n",
       "    </tr>\n",
       "  </thead>\n",
       "  <tbody>\n",
       "    <tr>\n",
       "      <th>0</th>\n",
       "      <td>Pink Cab</td>\n",
       "      <td>29290</td>\n",
       "      <td>Male</td>\n",
       "      <td>28</td>\n",
       "      <td>ATLANTA GA</td>\n",
       "      <td>2016-01-08</td>\n",
       "      <td>30.45</td>\n",
       "      <td>313.6350</td>\n",
       "      <td>370.95</td>\n",
       "      <td>Card</td>\n",
       "    </tr>\n",
       "    <tr>\n",
       "      <th>1</th>\n",
       "      <td>Yellow Cab</td>\n",
       "      <td>29290</td>\n",
       "      <td>Male</td>\n",
       "      <td>28</td>\n",
       "      <td>ATLANTA GA</td>\n",
       "      <td>2018-07-21</td>\n",
       "      <td>26.19</td>\n",
       "      <td>317.4228</td>\n",
       "      <td>598.70</td>\n",
       "      <td>Cash</td>\n",
       "    </tr>\n",
       "    <tr>\n",
       "      <th>2</th>\n",
       "      <td>Yellow Cab</td>\n",
       "      <td>29290</td>\n",
       "      <td>Male</td>\n",
       "      <td>28</td>\n",
       "      <td>ATLANTA GA</td>\n",
       "      <td>2018-11-23</td>\n",
       "      <td>42.55</td>\n",
       "      <td>597.4020</td>\n",
       "      <td>792.05</td>\n",
       "      <td>Card</td>\n",
       "    </tr>\n",
       "    <tr>\n",
       "      <th>3</th>\n",
       "      <td>Pink Cab</td>\n",
       "      <td>27703</td>\n",
       "      <td>Male</td>\n",
       "      <td>27</td>\n",
       "      <td>ATLANTA GA</td>\n",
       "      <td>2016-01-06</td>\n",
       "      <td>28.62</td>\n",
       "      <td>334.8540</td>\n",
       "      <td>358.52</td>\n",
       "      <td>Card</td>\n",
       "    </tr>\n",
       "    <tr>\n",
       "      <th>4</th>\n",
       "      <td>Yellow Cab</td>\n",
       "      <td>27703</td>\n",
       "      <td>Male</td>\n",
       "      <td>27</td>\n",
       "      <td>ATLANTA GA</td>\n",
       "      <td>2018-04-21</td>\n",
       "      <td>36.38</td>\n",
       "      <td>467.1192</td>\n",
       "      <td>721.10</td>\n",
       "      <td>Card</td>\n",
       "    </tr>\n",
       "  </tbody>\n",
       "</table>\n",
       "</div>"
      ],
      "text/plain": [
       "      Company  Customer ID Gender  Age        City Date of Travel  \\\n",
       "0    Pink Cab        29290   Male   28  ATLANTA GA     2016-01-08   \n",
       "1  Yellow Cab        29290   Male   28  ATLANTA GA     2018-07-21   \n",
       "2  Yellow Cab        29290   Male   28  ATLANTA GA     2018-11-23   \n",
       "3    Pink Cab        27703   Male   27  ATLANTA GA     2016-01-06   \n",
       "4  Yellow Cab        27703   Male   27  ATLANTA GA     2018-04-21   \n",
       "\n",
       "   KM Travelled  Cost of Trip  Price Charged Payment_Mode  \n",
       "0         30.45      313.6350         370.95         Card  \n",
       "1         26.19      317.4228         598.70         Cash  \n",
       "2         42.55      597.4020         792.05         Card  \n",
       "3         28.62      334.8540         358.52         Card  \n",
       "4         36.38      467.1192         721.10         Card  "
      ]
     },
     "execution_count": 99,
     "metadata": {},
     "output_type": "execute_result"
    }
   ],
   "source": [
    "combined_df.head()"
   ]
  },
  {
   "cell_type": "code",
   "execution_count": 100,
   "id": "4644d1a9",
   "metadata": {},
   "outputs": [],
   "source": [
    "City_Company= City_Company.drop(['Transaction ID'], axis = 1)"
   ]
  },
  {
   "cell_type": "code",
   "execution_count": 101,
   "id": "1ed9a9ce",
   "metadata": {},
   "outputs": [],
   "source": [
    "City_Company= City_Company.drop(['Date of Travel'], axis = 1)"
   ]
  },
  {
   "cell_type": "code",
   "execution_count": 102,
   "id": "c6a3881d",
   "metadata": {},
   "outputs": [],
   "source": [
    "City_Company= City_Company.drop(['KM Travelled'], axis = 1)"
   ]
  },
  {
   "cell_type": "code",
   "execution_count": 103,
   "id": "e1ab0018",
   "metadata": {},
   "outputs": [],
   "source": [
    "City_Company= City_Company.drop(['Price Charged'], axis = 1)"
   ]
  },
  {
   "cell_type": "code",
   "execution_count": 104,
   "id": "383dcd54",
   "metadata": {},
   "outputs": [],
   "source": [
    "City_Company= City_Company.drop(['Cost of Trip'], axis = 1)"
   ]
  },
  {
   "cell_type": "code",
   "execution_count": 105,
   "id": "1af8123a",
   "metadata": {},
   "outputs": [
    {
     "data": {
      "text/html": [
       "<div>\n",
       "<style scoped>\n",
       "    .dataframe tbody tr th:only-of-type {\n",
       "        vertical-align: middle;\n",
       "    }\n",
       "\n",
       "    .dataframe tbody tr th {\n",
       "        vertical-align: top;\n",
       "    }\n",
       "\n",
       "    .dataframe thead th {\n",
       "        text-align: right;\n",
       "    }\n",
       "</style>\n",
       "<table border=\"1\" class=\"dataframe\">\n",
       "  <thead>\n",
       "    <tr style=\"text-align: right;\">\n",
       "      <th></th>\n",
       "      <th>City</th>\n",
       "      <th>Population</th>\n",
       "      <th>Users</th>\n",
       "      <th>Company</th>\n",
       "    </tr>\n",
       "  </thead>\n",
       "  <tbody>\n",
       "    <tr>\n",
       "      <th>0</th>\n",
       "      <td>NEW YORK NY</td>\n",
       "      <td>8,405,837</td>\n",
       "      <td>302,149</td>\n",
       "      <td>Pink Cab</td>\n",
       "    </tr>\n",
       "    <tr>\n",
       "      <th>1</th>\n",
       "      <td>NEW YORK NY</td>\n",
       "      <td>8,405,837</td>\n",
       "      <td>302,149</td>\n",
       "      <td>Pink Cab</td>\n",
       "    </tr>\n",
       "    <tr>\n",
       "      <th>2</th>\n",
       "      <td>NEW YORK NY</td>\n",
       "      <td>8,405,837</td>\n",
       "      <td>302,149</td>\n",
       "      <td>Pink Cab</td>\n",
       "    </tr>\n",
       "    <tr>\n",
       "      <th>3</th>\n",
       "      <td>NEW YORK NY</td>\n",
       "      <td>8,405,837</td>\n",
       "      <td>302,149</td>\n",
       "      <td>Pink Cab</td>\n",
       "    </tr>\n",
       "    <tr>\n",
       "      <th>4</th>\n",
       "      <td>NEW YORK NY</td>\n",
       "      <td>8,405,837</td>\n",
       "      <td>302,149</td>\n",
       "      <td>Pink Cab</td>\n",
       "    </tr>\n",
       "  </tbody>\n",
       "</table>\n",
       "</div>"
      ],
      "text/plain": [
       "          City   Population      Users   Company\n",
       "0  NEW YORK NY   8,405,837    302,149   Pink Cab\n",
       "1  NEW YORK NY   8,405,837    302,149   Pink Cab\n",
       "2  NEW YORK NY   8,405,837    302,149   Pink Cab\n",
       "3  NEW YORK NY   8,405,837    302,149   Pink Cab\n",
       "4  NEW YORK NY   8,405,837    302,149   Pink Cab"
      ]
     },
     "execution_count": 105,
     "metadata": {},
     "output_type": "execute_result"
    }
   ],
   "source": [
    "City_Company.head()"
   ]
  },
  {
   "cell_type": "markdown",
   "id": "999fc0a0",
   "metadata": {},
   "source": [
    "### Profit calculation"
   ]
  },
  {
   "cell_type": "code",
   "execution_count": 106,
   "id": "3dcfe78d",
   "metadata": {
    "scrolled": true
   },
   "outputs": [
    {
     "data": {
      "text/html": [
       "<div>\n",
       "<style scoped>\n",
       "    .dataframe tbody tr th:only-of-type {\n",
       "        vertical-align: middle;\n",
       "    }\n",
       "\n",
       "    .dataframe tbody tr th {\n",
       "        vertical-align: top;\n",
       "    }\n",
       "\n",
       "    .dataframe thead th {\n",
       "        text-align: right;\n",
       "    }\n",
       "</style>\n",
       "<table border=\"1\" class=\"dataframe\">\n",
       "  <thead>\n",
       "    <tr style=\"text-align: right;\">\n",
       "      <th></th>\n",
       "      <th>Company</th>\n",
       "      <th>Customer ID</th>\n",
       "      <th>Gender</th>\n",
       "      <th>Age</th>\n",
       "      <th>City</th>\n",
       "      <th>Date of Travel</th>\n",
       "      <th>KM Travelled</th>\n",
       "      <th>Cost of Trip</th>\n",
       "      <th>Price Charged</th>\n",
       "      <th>Payment_Mode</th>\n",
       "      <th>Profit</th>\n",
       "    </tr>\n",
       "  </thead>\n",
       "  <tbody>\n",
       "    <tr>\n",
       "      <th>0</th>\n",
       "      <td>Pink Cab</td>\n",
       "      <td>29290</td>\n",
       "      <td>Male</td>\n",
       "      <td>28</td>\n",
       "      <td>ATLANTA GA</td>\n",
       "      <td>2016-01-08</td>\n",
       "      <td>30.45</td>\n",
       "      <td>313.6350</td>\n",
       "      <td>370.95</td>\n",
       "      <td>Card</td>\n",
       "      <td>57.3150</td>\n",
       "    </tr>\n",
       "    <tr>\n",
       "      <th>1</th>\n",
       "      <td>Yellow Cab</td>\n",
       "      <td>29290</td>\n",
       "      <td>Male</td>\n",
       "      <td>28</td>\n",
       "      <td>ATLANTA GA</td>\n",
       "      <td>2018-07-21</td>\n",
       "      <td>26.19</td>\n",
       "      <td>317.4228</td>\n",
       "      <td>598.70</td>\n",
       "      <td>Cash</td>\n",
       "      <td>281.2772</td>\n",
       "    </tr>\n",
       "    <tr>\n",
       "      <th>2</th>\n",
       "      <td>Yellow Cab</td>\n",
       "      <td>29290</td>\n",
       "      <td>Male</td>\n",
       "      <td>28</td>\n",
       "      <td>ATLANTA GA</td>\n",
       "      <td>2018-11-23</td>\n",
       "      <td>42.55</td>\n",
       "      <td>597.4020</td>\n",
       "      <td>792.05</td>\n",
       "      <td>Card</td>\n",
       "      <td>194.6480</td>\n",
       "    </tr>\n",
       "    <tr>\n",
       "      <th>3</th>\n",
       "      <td>Pink Cab</td>\n",
       "      <td>27703</td>\n",
       "      <td>Male</td>\n",
       "      <td>27</td>\n",
       "      <td>ATLANTA GA</td>\n",
       "      <td>2016-01-06</td>\n",
       "      <td>28.62</td>\n",
       "      <td>334.8540</td>\n",
       "      <td>358.52</td>\n",
       "      <td>Card</td>\n",
       "      <td>23.6660</td>\n",
       "    </tr>\n",
       "    <tr>\n",
       "      <th>4</th>\n",
       "      <td>Yellow Cab</td>\n",
       "      <td>27703</td>\n",
       "      <td>Male</td>\n",
       "      <td>27</td>\n",
       "      <td>ATLANTA GA</td>\n",
       "      <td>2018-04-21</td>\n",
       "      <td>36.38</td>\n",
       "      <td>467.1192</td>\n",
       "      <td>721.10</td>\n",
       "      <td>Card</td>\n",
       "      <td>253.9808</td>\n",
       "    </tr>\n",
       "    <tr>\n",
       "      <th>...</th>\n",
       "      <td>...</td>\n",
       "      <td>...</td>\n",
       "      <td>...</td>\n",
       "      <td>...</td>\n",
       "      <td>...</td>\n",
       "      <td>...</td>\n",
       "      <td>...</td>\n",
       "      <td>...</td>\n",
       "      <td>...</td>\n",
       "      <td>...</td>\n",
       "      <td>...</td>\n",
       "    </tr>\n",
       "    <tr>\n",
       "      <th>359387</th>\n",
       "      <td>Yellow Cab</td>\n",
       "      <td>38520</td>\n",
       "      <td>Female</td>\n",
       "      <td>42</td>\n",
       "      <td>SEATTLE WA</td>\n",
       "      <td>2018-01-07</td>\n",
       "      <td>16.66</td>\n",
       "      <td>213.9144</td>\n",
       "      <td>261.18</td>\n",
       "      <td>Card</td>\n",
       "      <td>47.2656</td>\n",
       "    </tr>\n",
       "    <tr>\n",
       "      <th>359388</th>\n",
       "      <td>Yellow Cab</td>\n",
       "      <td>12490</td>\n",
       "      <td>Male</td>\n",
       "      <td>33</td>\n",
       "      <td>SILICON VALLEY</td>\n",
       "      <td>2018-01-03</td>\n",
       "      <td>13.72</td>\n",
       "      <td>172.8720</td>\n",
       "      <td>277.97</td>\n",
       "      <td>Cash</td>\n",
       "      <td>105.0980</td>\n",
       "    </tr>\n",
       "    <tr>\n",
       "      <th>359389</th>\n",
       "      <td>Yellow Cab</td>\n",
       "      <td>41414</td>\n",
       "      <td>Male</td>\n",
       "      <td>38</td>\n",
       "      <td>TUCSON AZ</td>\n",
       "      <td>2018-01-04</td>\n",
       "      <td>19.00</td>\n",
       "      <td>232.5600</td>\n",
       "      <td>303.77</td>\n",
       "      <td>Card</td>\n",
       "      <td>71.2100</td>\n",
       "    </tr>\n",
       "    <tr>\n",
       "      <th>359390</th>\n",
       "      <td>Yellow Cab</td>\n",
       "      <td>41677</td>\n",
       "      <td>Male</td>\n",
       "      <td>23</td>\n",
       "      <td>TUCSON AZ</td>\n",
       "      <td>2018-01-06</td>\n",
       "      <td>5.60</td>\n",
       "      <td>70.5600</td>\n",
       "      <td>92.42</td>\n",
       "      <td>Cash</td>\n",
       "      <td>21.8600</td>\n",
       "    </tr>\n",
       "    <tr>\n",
       "      <th>359391</th>\n",
       "      <td>Yellow Cab</td>\n",
       "      <td>39761</td>\n",
       "      <td>Female</td>\n",
       "      <td>32</td>\n",
       "      <td>TUCSON AZ</td>\n",
       "      <td>2018-01-04</td>\n",
       "      <td>13.30</td>\n",
       "      <td>180.3480</td>\n",
       "      <td>244.65</td>\n",
       "      <td>Card</td>\n",
       "      <td>64.3020</td>\n",
       "    </tr>\n",
       "  </tbody>\n",
       "</table>\n",
       "<p>359392 rows × 11 columns</p>\n",
       "</div>"
      ],
      "text/plain": [
       "           Company  Customer ID  Gender  Age            City Date of Travel  \\\n",
       "0         Pink Cab        29290    Male   28      ATLANTA GA     2016-01-08   \n",
       "1       Yellow Cab        29290    Male   28      ATLANTA GA     2018-07-21   \n",
       "2       Yellow Cab        29290    Male   28      ATLANTA GA     2018-11-23   \n",
       "3         Pink Cab        27703    Male   27      ATLANTA GA     2016-01-06   \n",
       "4       Yellow Cab        27703    Male   27      ATLANTA GA     2018-04-21   \n",
       "...            ...          ...     ...  ...             ...            ...   \n",
       "359387  Yellow Cab        38520  Female   42      SEATTLE WA     2018-01-07   \n",
       "359388  Yellow Cab        12490    Male   33  SILICON VALLEY     2018-01-03   \n",
       "359389  Yellow Cab        41414    Male   38       TUCSON AZ     2018-01-04   \n",
       "359390  Yellow Cab        41677    Male   23       TUCSON AZ     2018-01-06   \n",
       "359391  Yellow Cab        39761  Female   32       TUCSON AZ     2018-01-04   \n",
       "\n",
       "        KM Travelled  Cost of Trip  Price Charged Payment_Mode    Profit  \n",
       "0              30.45      313.6350         370.95         Card   57.3150  \n",
       "1              26.19      317.4228         598.70         Cash  281.2772  \n",
       "2              42.55      597.4020         792.05         Card  194.6480  \n",
       "3              28.62      334.8540         358.52         Card   23.6660  \n",
       "4              36.38      467.1192         721.10         Card  253.9808  \n",
       "...              ...           ...            ...          ...       ...  \n",
       "359387         16.66      213.9144         261.18         Card   47.2656  \n",
       "359388         13.72      172.8720         277.97         Cash  105.0980  \n",
       "359389         19.00      232.5600         303.77         Card   71.2100  \n",
       "359390          5.60       70.5600          92.42         Cash   21.8600  \n",
       "359391         13.30      180.3480         244.65         Card   64.3020  \n",
       "\n",
       "[359392 rows x 11 columns]"
      ]
     },
     "execution_count": 106,
     "metadata": {},
     "output_type": "execute_result"
    }
   ],
   "source": [
    "combined_df[\"Profit\"]=combined_df[\"Price Charged\"]-combined_df[\"Cost of Trip\"]\n",
    "combined_df"
   ]
  },
  {
   "cell_type": "markdown",
   "id": "9f332502",
   "metadata": {},
   "source": [
    "## Check for any null values"
   ]
  },
  {
   "cell_type": "code",
   "execution_count": 107,
   "id": "7d3230ad",
   "metadata": {},
   "outputs": [
    {
     "data": {
      "text/plain": [
       "(359392, 7)"
      ]
     },
     "execution_count": 107,
     "metadata": {},
     "output_type": "execute_result"
    }
   ],
   "source": [
    "Cab_Data.shape"
   ]
  },
  {
   "cell_type": "code",
   "execution_count": 108,
   "id": "fde2c76f",
   "metadata": {},
   "outputs": [
    {
     "data": {
      "text/plain": [
       "(20, 3)"
      ]
     },
     "execution_count": 108,
     "metadata": {},
     "output_type": "execute_result"
    }
   ],
   "source": [
    "City_Data.shape"
   ]
  },
  {
   "cell_type": "code",
   "execution_count": 109,
   "id": "5b0e1275",
   "metadata": {},
   "outputs": [
    {
     "data": {
      "text/plain": [
       "(49171, 4)"
      ]
     },
     "execution_count": 109,
     "metadata": {},
     "output_type": "execute_result"
    }
   ],
   "source": [
    "Customer_Data.shape"
   ]
  },
  {
   "cell_type": "code",
   "execution_count": 110,
   "id": "07ca42bc",
   "metadata": {},
   "outputs": [
    {
     "data": {
      "text/plain": [
       "(440098, 3)"
      ]
     },
     "execution_count": 110,
     "metadata": {},
     "output_type": "execute_result"
    }
   ],
   "source": [
    "Transaction_data.shape"
   ]
  },
  {
   "cell_type": "code",
   "execution_count": 111,
   "id": "78c940a9",
   "metadata": {},
   "outputs": [
    {
     "data": {
      "text/plain": [
       "(359392, 11)"
      ]
     },
     "execution_count": 111,
     "metadata": {},
     "output_type": "execute_result"
    }
   ],
   "source": [
    "combined_df.shape"
   ]
  },
  {
   "cell_type": "code",
   "execution_count": 112,
   "id": "918e8c2d",
   "metadata": {},
   "outputs": [
    {
     "data": {
      "text/plain": [
       "False"
      ]
     },
     "execution_count": 112,
     "metadata": {},
     "output_type": "execute_result"
    }
   ],
   "source": [
    "combined_df[combined_df.columns].isnull().values.any()"
   ]
  },
  {
   "cell_type": "code",
   "execution_count": 113,
   "id": "81cffdd3",
   "metadata": {},
   "outputs": [
    {
     "data": {
      "text/plain": [
       "Company           0\n",
       "Customer ID       0\n",
       "Gender            0\n",
       "Age               0\n",
       "City              0\n",
       "Date of Travel    0\n",
       "KM Travelled      0\n",
       "Cost of Trip      0\n",
       "Price Charged     0\n",
       "Payment_Mode      0\n",
       "Profit            0\n",
       "dtype: int64"
      ]
     },
     "execution_count": 113,
     "metadata": {},
     "output_type": "execute_result"
    }
   ],
   "source": [
    "combined_df.isnull().sum()"
   ]
  },
  {
   "cell_type": "code",
   "execution_count": 114,
   "id": "9f75b256",
   "metadata": {},
   "outputs": [
    {
     "data": {
      "text/plain": [
       "Company                2\n",
       "Customer ID        46148\n",
       "Gender                 2\n",
       "Age                   48\n",
       "City                  19\n",
       "Date of Travel      1095\n",
       "KM Travelled         874\n",
       "Cost of Trip       16291\n",
       "Price Charged      99176\n",
       "Payment_Mode           2\n",
       "Profit            301825\n",
       "dtype: int64"
      ]
     },
     "execution_count": 114,
     "metadata": {},
     "output_type": "execute_result"
    }
   ],
   "source": [
    "combined_df.nunique()"
   ]
  },
  {
   "cell_type": "code",
   "execution_count": 115,
   "id": "87e436dc",
   "metadata": {},
   "outputs": [
    {
     "data": {
      "text/plain": [
       "0"
      ]
     },
     "execution_count": 115,
     "metadata": {},
     "output_type": "execute_result"
    }
   ],
   "source": [
    "combined_df.duplicated().sum()"
   ]
  },
  {
   "cell_type": "code",
   "execution_count": 116,
   "id": "45d4f8db",
   "metadata": {},
   "outputs": [
    {
     "data": {
      "text/plain": [
       "City          0\n",
       "Population    0\n",
       "Users         0\n",
       "Company       0\n",
       "dtype: int64"
      ]
     },
     "execution_count": 116,
     "metadata": {},
     "output_type": "execute_result"
    }
   ],
   "source": [
    "City_Company.isnull().sum()"
   ]
  },
  {
   "cell_type": "code",
   "execution_count": 117,
   "id": "ea106b5e",
   "metadata": {},
   "outputs": [
    {
     "data": {
      "text/plain": [
       "City          19\n",
       "Population    19\n",
       "Users         19\n",
       "Company        2\n",
       "dtype: int64"
      ]
     },
     "execution_count": 117,
     "metadata": {},
     "output_type": "execute_result"
    }
   ],
   "source": [
    "City_Company.nunique()"
   ]
  },
  {
   "cell_type": "code",
   "execution_count": 118,
   "id": "62a342f2",
   "metadata": {},
   "outputs": [
    {
     "data": {
      "text/plain": [
       "False"
      ]
     },
     "execution_count": 118,
     "metadata": {},
     "output_type": "execute_result"
    }
   ],
   "source": [
    "City_Company[City_Company.columns].isnull().values.any()"
   ]
  },
  {
   "cell_type": "markdown",
   "id": "429847de",
   "metadata": {},
   "source": [
    "## Exploring Data"
   ]
  },
  {
   "cell_type": "code",
   "execution_count": 119,
   "id": "35780687",
   "metadata": {},
   "outputs": [
    {
     "name": "stdout",
     "output_type": "stream",
     "text": [
      "<class 'pandas.core.frame.DataFrame'>\n",
      "Int64Index: 359392 entries, 0 to 359391\n",
      "Data columns (total 11 columns):\n",
      " #   Column          Non-Null Count   Dtype  \n",
      "---  ------          --------------   -----  \n",
      " 0   Company         359392 non-null  object \n",
      " 1   Customer ID     359392 non-null  int64  \n",
      " 2   Gender          359392 non-null  object \n",
      " 3   Age             359392 non-null  int64  \n",
      " 4   City            359392 non-null  object \n",
      " 5   Date of Travel  359392 non-null  object \n",
      " 6   KM Travelled    359392 non-null  float64\n",
      " 7   Cost of Trip    359392 non-null  float64\n",
      " 8   Price Charged   359392 non-null  float64\n",
      " 9   Payment_Mode    359392 non-null  object \n",
      " 10  Profit          359392 non-null  float64\n",
      "dtypes: float64(4), int64(2), object(5)\n",
      "memory usage: 32.9+ MB\n"
     ]
    }
   ],
   "source": [
    "combined_df.info()"
   ]
  },
  {
   "cell_type": "code",
   "execution_count": 120,
   "id": "d7161851",
   "metadata": {},
   "outputs": [
    {
     "data": {
      "text/html": [
       "<div>\n",
       "<style scoped>\n",
       "    .dataframe tbody tr th:only-of-type {\n",
       "        vertical-align: middle;\n",
       "    }\n",
       "\n",
       "    .dataframe tbody tr th {\n",
       "        vertical-align: top;\n",
       "    }\n",
       "\n",
       "    .dataframe thead th {\n",
       "        text-align: right;\n",
       "    }\n",
       "</style>\n",
       "<table border=\"1\" class=\"dataframe\">\n",
       "  <thead>\n",
       "    <tr style=\"text-align: right;\">\n",
       "      <th>Company</th>\n",
       "      <th>Pink Cab</th>\n",
       "      <th>Yellow Cab</th>\n",
       "    </tr>\n",
       "    <tr>\n",
       "      <th>Gender</th>\n",
       "      <th></th>\n",
       "      <th></th>\n",
       "    </tr>\n",
       "  </thead>\n",
       "  <tbody>\n",
       "    <tr>\n",
       "      <th>Female</th>\n",
       "      <td>37480</td>\n",
       "      <td>116000</td>\n",
       "    </tr>\n",
       "    <tr>\n",
       "      <th>Male</th>\n",
       "      <td>47231</td>\n",
       "      <td>158681</td>\n",
       "    </tr>\n",
       "  </tbody>\n",
       "</table>\n",
       "</div>"
      ],
      "text/plain": [
       "Company  Pink Cab  Yellow Cab\n",
       "Gender                       \n",
       "Female      37480      116000\n",
       "Male        47231      158681"
      ]
     },
     "execution_count": 120,
     "metadata": {},
     "output_type": "execute_result"
    }
   ],
   "source": [
    "pd.crosstab(combined_df.Gender, combined_df.Company)"
   ]
  },
  {
   "cell_type": "code",
   "execution_count": 138,
   "id": "c384eb26",
   "metadata": {},
   "outputs": [
    {
     "data": {
      "text/plain": [
       "Company\n",
       "Pink Cab       84711\n",
       "Yellow Cab    274681\n",
       "dtype: int64"
      ]
     },
     "execution_count": 138,
     "metadata": {},
     "output_type": "execute_result"
    }
   ],
   "source": [
    "pd.crosstab(City_Company.City, City_Company.Company).sum()"
   ]
  },
  {
   "cell_type": "code",
   "execution_count": 122,
   "id": "6a3661a7",
   "metadata": {},
   "outputs": [
    {
     "data": {
      "text/html": [
       "<div>\n",
       "<style scoped>\n",
       "    .dataframe tbody tr th:only-of-type {\n",
       "        vertical-align: middle;\n",
       "    }\n",
       "\n",
       "    .dataframe tbody tr th {\n",
       "        vertical-align: top;\n",
       "    }\n",
       "\n",
       "    .dataframe thead th {\n",
       "        text-align: right;\n",
       "    }\n",
       "</style>\n",
       "<table border=\"1\" class=\"dataframe\">\n",
       "  <thead>\n",
       "    <tr style=\"text-align: right;\">\n",
       "      <th>Company</th>\n",
       "      <th>Pink Cab</th>\n",
       "      <th>Yellow Cab</th>\n",
       "    </tr>\n",
       "    <tr>\n",
       "      <th>Payment_Mode</th>\n",
       "      <th></th>\n",
       "      <th></th>\n",
       "    </tr>\n",
       "  </thead>\n",
       "  <tbody>\n",
       "    <tr>\n",
       "      <th>Card</th>\n",
       "      <td>50719</td>\n",
       "      <td>164785</td>\n",
       "    </tr>\n",
       "    <tr>\n",
       "      <th>Cash</th>\n",
       "      <td>33992</td>\n",
       "      <td>109896</td>\n",
       "    </tr>\n",
       "  </tbody>\n",
       "</table>\n",
       "</div>"
      ],
      "text/plain": [
       "Company       Pink Cab  Yellow Cab\n",
       "Payment_Mode                      \n",
       "Card             50719      164785\n",
       "Cash             33992      109896"
      ]
     },
     "execution_count": 122,
     "metadata": {},
     "output_type": "execute_result"
    }
   ],
   "source": [
    "pd.crosstab(index= combined_df[\"Payment_Mode\"], columns=combined_df['Company'])"
   ]
  },
  {
   "cell_type": "code",
   "execution_count": 123,
   "id": "3a224dd2",
   "metadata": {},
   "outputs": [
    {
     "data": {
      "text/html": [
       "<div>\n",
       "<style scoped>\n",
       "    .dataframe tbody tr th:only-of-type {\n",
       "        vertical-align: middle;\n",
       "    }\n",
       "\n",
       "    .dataframe tbody tr th {\n",
       "        vertical-align: top;\n",
       "    }\n",
       "\n",
       "    .dataframe thead th {\n",
       "        text-align: right;\n",
       "    }\n",
       "</style>\n",
       "<table border=\"1\" class=\"dataframe\">\n",
       "  <thead>\n",
       "    <tr style=\"text-align: right;\">\n",
       "      <th></th>\n",
       "      <th>Customer ID</th>\n",
       "      <th>Age</th>\n",
       "      <th>KM Travelled</th>\n",
       "      <th>Cost of Trip</th>\n",
       "      <th>Price Charged</th>\n",
       "      <th>Profit</th>\n",
       "    </tr>\n",
       "  </thead>\n",
       "  <tbody>\n",
       "    <tr>\n",
       "      <th>count</th>\n",
       "      <td>359392.000000</td>\n",
       "      <td>359392.000000</td>\n",
       "      <td>359392.000000</td>\n",
       "      <td>359392.000000</td>\n",
       "      <td>359392.000000</td>\n",
       "      <td>359392.000000</td>\n",
       "    </tr>\n",
       "    <tr>\n",
       "      <th>mean</th>\n",
       "      <td>19191.652115</td>\n",
       "      <td>35.336705</td>\n",
       "      <td>22.567254</td>\n",
       "      <td>286.190113</td>\n",
       "      <td>423.443311</td>\n",
       "      <td>137.253198</td>\n",
       "    </tr>\n",
       "    <tr>\n",
       "      <th>std</th>\n",
       "      <td>21012.412463</td>\n",
       "      <td>12.594234</td>\n",
       "      <td>12.233526</td>\n",
       "      <td>157.993661</td>\n",
       "      <td>274.378911</td>\n",
       "      <td>160.311840</td>\n",
       "    </tr>\n",
       "    <tr>\n",
       "      <th>min</th>\n",
       "      <td>1.000000</td>\n",
       "      <td>18.000000</td>\n",
       "      <td>1.900000</td>\n",
       "      <td>19.000000</td>\n",
       "      <td>15.600000</td>\n",
       "      <td>-220.060000</td>\n",
       "    </tr>\n",
       "    <tr>\n",
       "      <th>25%</th>\n",
       "      <td>2705.000000</td>\n",
       "      <td>25.000000</td>\n",
       "      <td>12.000000</td>\n",
       "      <td>151.200000</td>\n",
       "      <td>206.437500</td>\n",
       "      <td>28.012000</td>\n",
       "    </tr>\n",
       "    <tr>\n",
       "      <th>50%</th>\n",
       "      <td>7459.000000</td>\n",
       "      <td>33.000000</td>\n",
       "      <td>22.440000</td>\n",
       "      <td>282.480000</td>\n",
       "      <td>386.360000</td>\n",
       "      <td>81.962000</td>\n",
       "    </tr>\n",
       "    <tr>\n",
       "      <th>75%</th>\n",
       "      <td>36078.000000</td>\n",
       "      <td>42.000000</td>\n",
       "      <td>32.960000</td>\n",
       "      <td>413.683200</td>\n",
       "      <td>583.660000</td>\n",
       "      <td>190.030000</td>\n",
       "    </tr>\n",
       "    <tr>\n",
       "      <th>max</th>\n",
       "      <td>60000.000000</td>\n",
       "      <td>65.000000</td>\n",
       "      <td>48.000000</td>\n",
       "      <td>691.200000</td>\n",
       "      <td>2048.030000</td>\n",
       "      <td>1463.966000</td>\n",
       "    </tr>\n",
       "  </tbody>\n",
       "</table>\n",
       "</div>"
      ],
      "text/plain": [
       "         Customer ID            Age   KM Travelled   Cost of Trip  \\\n",
       "count  359392.000000  359392.000000  359392.000000  359392.000000   \n",
       "mean    19191.652115      35.336705      22.567254     286.190113   \n",
       "std     21012.412463      12.594234      12.233526     157.993661   \n",
       "min         1.000000      18.000000       1.900000      19.000000   \n",
       "25%      2705.000000      25.000000      12.000000     151.200000   \n",
       "50%      7459.000000      33.000000      22.440000     282.480000   \n",
       "75%     36078.000000      42.000000      32.960000     413.683200   \n",
       "max     60000.000000      65.000000      48.000000     691.200000   \n",
       "\n",
       "       Price Charged         Profit  \n",
       "count  359392.000000  359392.000000  \n",
       "mean      423.443311     137.253198  \n",
       "std       274.378911     160.311840  \n",
       "min        15.600000    -220.060000  \n",
       "25%       206.437500      28.012000  \n",
       "50%       386.360000      81.962000  \n",
       "75%       583.660000     190.030000  \n",
       "max      2048.030000    1463.966000  "
      ]
     },
     "execution_count": 123,
     "metadata": {},
     "output_type": "execute_result"
    }
   ],
   "source": [
    "combined_df.describe()"
   ]
  },
  {
   "cell_type": "code",
   "execution_count": 124,
   "id": "a53f10b4",
   "metadata": {},
   "outputs": [
    {
     "data": {
      "text/plain": [
       "Customer ID      7459.000\n",
       "Age                33.000\n",
       "KM Travelled       22.440\n",
       "Cost of Trip      282.480\n",
       "Price Charged     386.360\n",
       "Profit             81.962\n",
       "Name: 0.5, dtype: float64"
      ]
     },
     "execution_count": 124,
     "metadata": {},
     "output_type": "execute_result"
    }
   ],
   "source": [
    "combined_df.quantile()"
   ]
  },
  {
   "cell_type": "code",
   "execution_count": 125,
   "id": "1055980c",
   "metadata": {},
   "outputs": [
    {
     "data": {
      "text/html": [
       "<div>\n",
       "<style scoped>\n",
       "    .dataframe tbody tr th:only-of-type {\n",
       "        vertical-align: middle;\n",
       "    }\n",
       "\n",
       "    .dataframe tbody tr th {\n",
       "        vertical-align: top;\n",
       "    }\n",
       "\n",
       "    .dataframe thead th {\n",
       "        text-align: right;\n",
       "    }\n",
       "</style>\n",
       "<table border=\"1\" class=\"dataframe\">\n",
       "  <thead>\n",
       "    <tr style=\"text-align: right;\">\n",
       "      <th></th>\n",
       "      <th>City</th>\n",
       "      <th>Population</th>\n",
       "      <th>Users</th>\n",
       "    </tr>\n",
       "  </thead>\n",
       "  <tbody>\n",
       "    <tr>\n",
       "      <th>count</th>\n",
       "      <td>20</td>\n",
       "      <td>20</td>\n",
       "      <td>20</td>\n",
       "    </tr>\n",
       "    <tr>\n",
       "      <th>unique</th>\n",
       "      <td>20</td>\n",
       "      <td>20</td>\n",
       "      <td>20</td>\n",
       "    </tr>\n",
       "    <tr>\n",
       "      <th>top</th>\n",
       "      <td>NASHVILLE TN</td>\n",
       "      <td>1,177,609</td>\n",
       "      <td>25,063</td>\n",
       "    </tr>\n",
       "    <tr>\n",
       "      <th>freq</th>\n",
       "      <td>1</td>\n",
       "      <td>1</td>\n",
       "      <td>1</td>\n",
       "    </tr>\n",
       "  </tbody>\n",
       "</table>\n",
       "</div>"
      ],
      "text/plain": [
       "                City   Population     Users\n",
       "count             20           20        20\n",
       "unique            20           20        20\n",
       "top     NASHVILLE TN   1,177,609    25,063 \n",
       "freq               1            1         1"
      ]
     },
     "execution_count": 125,
     "metadata": {},
     "output_type": "execute_result"
    }
   ],
   "source": [
    "City_Data.describe()"
   ]
  },
  {
   "cell_type": "code",
   "execution_count": 126,
   "id": "551f402b",
   "metadata": {},
   "outputs": [
    {
     "data": {
      "image/png": "[encoded data removed]",
      "text/plain": [
       "<Figure size 1080x1440 with 6 Axes>"
      ]
     },
     "metadata": {
      "needs_background": "light"
     },
     "output_type": "display_data"
    }
   ],
   "source": [
    "combined_df.hist(figsize= (15,20) );"
   ]
  },
  {
   "cell_type": "code",
   "execution_count": 127,
   "id": "908fcdac",
   "metadata": {},
   "outputs": [
    {
     "data": {
      "text/plain": [
       "array([<AxesSubplot:title={'center':'Female'}>,\n",
       "       <AxesSubplot:title={'center':'Male'}>], dtype=object)"
      ]
     },
     "execution_count": 127,
     "metadata": {},
     "output_type": "execute_result"
    },
    {
     "data": {
      "image/png": "[encoded data removed]",
      "text/plain": [
       "<Figure size 1080x1440 with 2 Axes>"
      ]
     },
     "metadata": {
      "needs_background": "light"
     },
     "output_type": "display_data"
    }
   ],
   "source": [
    "combined_df.hist(by= \"Gender\",column = \"City\", figsize= (15,20) )"
   ]
  },
  {
   "cell_type": "code",
   "execution_count": 128,
   "id": "b2155425",
   "metadata": {},
   "outputs": [
    {
     "data": {
      "text/plain": [
       "<seaborn.axisgrid.FacetGrid at 0x191088891f0>"
      ]
     },
     "execution_count": 128,
     "metadata": {},
     "output_type": "execute_result"
    },
    {
     "data": {
      "image/png": "[encoded data removed]",
      "text/plain": [
       "<Figure size 792.125x720 with 1 Axes>"
      ]
     },
     "metadata": {
      "needs_background": "light"
     },
     "output_type": "display_data"
    }
   ],
   "source": [
    "sns.catplot(x=\"Customer ID\", y=\"City\", hue=\"Gender\", kind=\"bar\", data=combined_df, height=10)"
   ]
  },
  {
   "cell_type": "code",
   "execution_count": 129,
   "id": "eb55251a",
   "metadata": {},
   "outputs": [
    {
     "data": {
      "text/plain": [
       "<AxesSubplot:xlabel='Company', ylabel='Profit'>"
      ]
     },
     "execution_count": 129,
     "metadata": {},
     "output_type": "execute_result"
    },
    {
     "data": {
      "image/png": "[encoded data removed]",
      "text/plain": [
       "<Figure size 432x288 with 1 Axes>"
      ]
     },
     "metadata": {
      "needs_background": "light"
     },
     "output_type": "display_data"
    }
   ],
   "source": [
    "sns.scatterplot(x='Company', y = 'Profit', data = combined_df)"
   ]
  },
  {
   "cell_type": "code",
   "execution_count": 130,
   "id": "eb78a52c",
   "metadata": {},
   "outputs": [],
   "source": [
    "correlation= combined_df.corr()"
   ]
  },
  {
   "cell_type": "code",
   "execution_count": 131,
   "id": "6c9d3d2a",
   "metadata": {},
   "outputs": [
    {
     "data": {
      "text/html": [
       "<div>\n",
       "<style scoped>\n",
       "    .dataframe tbody tr th:only-of-type {\n",
       "        vertical-align: middle;\n",
       "    }\n",
       "\n",
       "    .dataframe tbody tr th {\n",
       "        vertical-align: top;\n",
       "    }\n",
       "\n",
       "    .dataframe thead th {\n",
       "        text-align: right;\n",
       "    }\n",
       "</style>\n",
       "<table border=\"1\" class=\"dataframe\">\n",
       "  <thead>\n",
       "    <tr style=\"text-align: right;\">\n",
       "      <th></th>\n",
       "      <th>Customer ID</th>\n",
       "      <th>Age</th>\n",
       "      <th>KM Travelled</th>\n",
       "      <th>Cost of Trip</th>\n",
       "      <th>Price Charged</th>\n",
       "      <th>Profit</th>\n",
       "    </tr>\n",
       "  </thead>\n",
       "  <tbody>\n",
       "    <tr>\n",
       "      <th>Customer ID</th>\n",
       "      <td>1.000000</td>\n",
       "      <td>-0.004735</td>\n",
       "      <td>0.000389</td>\n",
       "      <td>0.003077</td>\n",
       "      <td>-0.177324</td>\n",
       "      <td>-0.306527</td>\n",
       "    </tr>\n",
       "    <tr>\n",
       "      <th>Age</th>\n",
       "      <td>-0.004735</td>\n",
       "      <td>1.000000</td>\n",
       "      <td>-0.000369</td>\n",
       "      <td>-0.000189</td>\n",
       "      <td>-0.003084</td>\n",
       "      <td>-0.005093</td>\n",
       "    </tr>\n",
       "    <tr>\n",
       "      <th>KM Travelled</th>\n",
       "      <td>0.000389</td>\n",
       "      <td>-0.000369</td>\n",
       "      <td>1.000000</td>\n",
       "      <td>0.981848</td>\n",
       "      <td>0.835753</td>\n",
       "      <td>0.462768</td>\n",
       "    </tr>\n",
       "    <tr>\n",
       "      <th>Cost of Trip</th>\n",
       "      <td>0.003077</td>\n",
       "      <td>-0.000189</td>\n",
       "      <td>0.981848</td>\n",
       "      <td>1.000000</td>\n",
       "      <td>0.859812</td>\n",
       "      <td>0.486056</td>\n",
       "    </tr>\n",
       "    <tr>\n",
       "      <th>Price Charged</th>\n",
       "      <td>-0.177324</td>\n",
       "      <td>-0.003084</td>\n",
       "      <td>0.835753</td>\n",
       "      <td>0.859812</td>\n",
       "      <td>1.000000</td>\n",
       "      <td>0.864154</td>\n",
       "    </tr>\n",
       "    <tr>\n",
       "      <th>Profit</th>\n",
       "      <td>-0.306527</td>\n",
       "      <td>-0.005093</td>\n",
       "      <td>0.462768</td>\n",
       "      <td>0.486056</td>\n",
       "      <td>0.864154</td>\n",
       "      <td>1.000000</td>\n",
       "    </tr>\n",
       "  </tbody>\n",
       "</table>\n",
       "</div>"
      ],
      "text/plain": [
       "               Customer ID       Age  KM Travelled  Cost of Trip  \\\n",
       "Customer ID       1.000000 -0.004735      0.000389      0.003077   \n",
       "Age              -0.004735  1.000000     -0.000369     -0.000189   \n",
       "KM Travelled      0.000389 -0.000369      1.000000      0.981848   \n",
       "Cost of Trip      0.003077 -0.000189      0.981848      1.000000   \n",
       "Price Charged    -0.177324 -0.003084      0.835753      0.859812   \n",
       "Profit           -0.306527 -0.005093      0.462768      0.486056   \n",
       "\n",
       "               Price Charged    Profit  \n",
       "Customer ID        -0.177324 -0.306527  \n",
       "Age                -0.003084 -0.005093  \n",
       "KM Travelled        0.835753  0.462768  \n",
       "Cost of Trip        0.859812  0.486056  \n",
       "Price Charged       1.000000  0.864154  \n",
       "Profit              0.864154  1.000000  "
      ]
     },
     "execution_count": 131,
     "metadata": {},
     "output_type": "execute_result"
    }
   ],
   "source": [
    "correlation"
   ]
  },
  {
   "cell_type": "code",
   "execution_count": 132,
   "id": "6506c5db",
   "metadata": {},
   "outputs": [
    {
     "data": {
      "text/plain": [
       "<AxesSubplot:>"
      ]
     },
     "execution_count": 132,
     "metadata": {},
     "output_type": "execute_result"
    },
    {
     "data": {
      "image/png": "[encoded data removed]",
      "text/plain": [
       "<Figure size 432x288 with 2 Axes>"
      ]
     },
     "metadata": {
      "needs_background": "light"
     },
     "output_type": "display_data"
    }
   ],
   "source": [
    "sns.heatmap(correlation, xticklabels= correlation.columns,\n",
    "    yticklabels= correlation.columns,)"
   ]
  },
  {
   "cell_type": "markdown",
   "id": "ca95131b",
   "metadata": {},
   "source": [
    "# After finishing the EDA, the insights can conclude that the Yellow Cab company is the right place to make the investment, due to the following reasons:\n",
    "\n",
    "1- Yellow Cab revenue in years 2016 and 2018 is higher than Pink Cab.\n",
    "<br>2- Yellow Cab attracts a larger number of customers.\n",
    "<br>3- Yellow Cab has higher population all over the states which can be proved by the customers numbers in each state.\n"
   ]
  },
  {
   "cell_type": "code",
   "execution_count": 133,
   "id": "c7f75963",
   "metadata": {},
   "outputs": [],
   "source": [
    "combined_df.to_excel(\"Combined Data.xlsx\")"
   ]
  },
  {
   "cell_type": "code",
   "execution_count": 134,
   "id": "ff51ca2e",
   "metadata": {},
   "outputs": [],
   "source": [
    "City_Company.to_excel(\"City Company Data.xlsx\")"
   ]
  },
  {
   "cell_type": "code",
   "execution_count": null,
   "id": "74979f96",
   "metadata": {},
   "outputs": [],
   "source": []
  }
 ],
 "metadata": {
  "kernelspec": {
   "display_name": "Python 3",
   "language": "python",
   "name": "python3"
  },
  "language_info": {
   "codemirror_mode": {
    "name": "ipython",
    "version": 3
   },
   "file_extension": ".py",
   "mimetype": "text/x-python",
   "name": "python",
   "nbconvert_exporter": "python",
   "pygments_lexer": "ipython3",
   "version": "3.8.8"
  }
 },
 "nbformat": 4,
 "nbformat_minor": 5
}
